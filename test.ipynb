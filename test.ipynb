{
 "cells": [
  {
   "cell_type": "code",
   "execution_count": 8,
   "metadata": {},
   "outputs": [
    {
     "name": "stdout",
     "output_type": "stream",
     "text": [
      "   id  id1 category   param  250101\n",
      "0   1    1     Wall  volume      10\n",
      "1   2    2      Col  volume      20\n",
      "2   3    3     Beam  volume      30\n",
      "3   4    4     Slab  volume      40\n"
     ]
    }
   ],
   "source": [
    "import pandas as pd\n",
    "\n",
    "def MapingVersion(dataframefourcolumn, nameversionstring):\n",
    "    # Create a new DataFrame with the required structure\n",
    "    df_transformed = dataframefourcolumn[['id', 'id1', 'category']].copy()  # Keep the 'id', 'id1', and 'category' columns\n",
    "    df_transformed['param'] = dataframefourcolumn.columns[3]  # Add 'param' column with the name of the fourth column\n",
    "    df_transformed[nameversionstring] = dataframefourcolumn.iloc[:, 3]  # Add column with the nameversionstring containing the values of the fourth column\n",
    "    \n",
    "    return df_transformed\n",
    "\n",
    "# Example usage:\n",
    "df = pd.DataFrame({\n",
    "    'id': [1, 2, 3, 4],\n",
    "    'id1': [1, 2, 3, 4],\n",
    "    'category': ['Wall', 'Col', 'Beam', 'Slab'],\n",
    "    'volume': [10, 20, 30, 40]\n",
    "})\n",
    "\n",
    "nameversionstring = '250101'\n",
    "df_transformed = MapingVersion(df, nameversionstring)\n",
    "\n",
    "print(df_transformed)"
   ]
  }
 ],
 "metadata": {
  "kernelspec": {
   "display_name": "Python 3",
   "language": "python",
   "name": "python3"
  },
  "language_info": {
   "codemirror_mode": {
    "name": "ipython",
    "version": 3
   },
   "file_extension": ".py",
   "mimetype": "text/x-python",
   "name": "python",
   "nbconvert_exporter": "python",
   "pygments_lexer": "ipython3",
   "version": "3.12.1"
  }
 },
 "nbformat": 4,
 "nbformat_minor": 2
}
